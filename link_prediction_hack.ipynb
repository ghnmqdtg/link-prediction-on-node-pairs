{
 "cells": [
  {
   "cell_type": "code",
   "execution_count": 111,
   "metadata": {},
   "outputs": [],
   "source": [
    "import os\n",
    "import shutil\n",
    "\n",
    "\n",
    "def recreate_folder():\n",
    "    # Path of the folder to be removed\n",
    "    folder_path = 'data/test'\n",
    "    try:\n",
    "        # Remove the folder and its subfolders\n",
    "        shutil.rmtree(folder_path)\n",
    "    except:\n",
    "        pass\n",
    "    # Create the new folder and its subfolders\n",
    "    os.makedirs(os.path.join(folder_path, 'fea_sample'))\n",
    "\n",
    "\n",
    "recreate_folder()\n"
   ]
  },
  {
   "cell_type": "code",
   "execution_count": 112,
   "metadata": {},
   "outputs": [],
   "source": [
    "from tabulate import tabulate\n",
    "\n",
    "def show_graph_info(graph):\n",
    "    # Compute the number of nodes and edges of the graph\n",
    "    num_nodes = graph.number_of_nodes()\n",
    "    num_edges = graph.number_of_edges()\n",
    "    # Compute in-degree and out-degree of each node\n",
    "    in_degrees = dict(graph.in_degree())\n",
    "    out_degrees = dict(graph.out_degree())\n",
    "    # Compute average in-degree and out-degree\n",
    "    avg_in_degree = sum(in_degrees.values()) / len(in_degrees)\n",
    "    avg_out_degree = sum(out_degrees.values()) / len(out_degrees)\n",
    "   # Create a table with the graph information\n",
    "    table = [\n",
    "        [\"Number of nodes\", num_nodes],\n",
    "        [\"Number of edges\", num_edges],\n",
    "        [\"Average in-degree\", f\"{avg_in_degree:.2f}\"],\n",
    "        [\"Average out-degree\", f\"{avg_out_degree:.2f}\"]\n",
    "    ]\n",
    "    # Print the table\n",
    "    print(tabulate(table, headers=[\"Metrices\", \"Value\"]))\n"
   ]
  },
  {
   "cell_type": "code",
   "execution_count": 113,
   "metadata": {},
   "outputs": [
    {
     "name": "stdout",
     "output_type": "stream",
     "text": [
      "Metrices               Value\n",
      "------------------  --------\n",
      "Number of nodes     10230\n",
      "Number of edges     12000\n",
      "Average in-degree       1.17\n",
      "Average out-degree      1.17\n"
     ]
    }
   ],
   "source": [
    "import pandas as pd\n",
    "import networkx as nx\n",
    "\n",
    "df_tmp = pd.read_csv('data/new_train_data.csv')\n",
    "df_train = df_tmp[df_tmp['label'] == 1]\n",
    "df_train = df_train.drop(['label'], axis=1)\n",
    "df_train.to_csv(\n",
    "    'data/test/test_woheader.csv', header=False, index=False)\n",
    "# storing the list of edges in a varible\n",
    "G = nx.read_edgelist('data/test/test_woheader.csv', delimiter=',',\n",
    "                     create_using=nx.DiGraph(), nodetype=int)\n",
    "\n",
    "# Printing the information of graph\n",
    "show_graph_info(G)\n"
   ]
  },
  {
   "cell_type": "code",
   "execution_count": 114,
   "metadata": {},
   "outputs": [],
   "source": [
    "def compute_shortest_path_length(a, b, graph):\n",
    "    p = -1\n",
    "    try:\n",
    "        if graph.has_edge(a, b):\n",
    "            graph.remove_edge(a, b)\n",
    "            p = nx.shortest_path_length(graph, source=a, target=b)\n",
    "            graph.add_edge(a, b)\n",
    "        else:\n",
    "            p = nx.shortest_path_length(graph, source=a, target=b)\n",
    "        return p\n",
    "    except:\n",
    "        return -1\n"
   ]
  },
  {
   "cell_type": "code",
   "execution_count": 115,
   "metadata": {},
   "outputs": [],
   "source": [
    "def belongs_to_same_wcc(a, b, graph, wcc):\n",
    "    index = []\n",
    "    if graph.has_edge(b, a):\n",
    "        return 1\n",
    "    if graph.has_edge(a, b):\n",
    "        for i in wcc:\n",
    "            if a in i:\n",
    "                index = i\n",
    "                break\n",
    "        if (b in index):\n",
    "            graph.remove_edge(a, b)\n",
    "            if compute_shortest_path_length(a, b, graph) == -1:\n",
    "                graph.add_edge(a, b)\n",
    "                return 0\n",
    "            else:\n",
    "                graph.add_edge(a, b)\n",
    "                return 1\n",
    "        else:\n",
    "            return 0\n",
    "    else:\n",
    "        for i in wcc:\n",
    "            if a in i:\n",
    "                index = i\n",
    "                break\n",
    "        if (b in index):\n",
    "            return 1\n",
    "        else:\n",
    "            return 0\n"
   ]
  },
  {
   "cell_type": "code",
   "execution_count": 116,
   "metadata": {},
   "outputs": [
    {
     "data": {
      "text/plain": [
       "array([4077, 1923])"
      ]
     },
     "execution_count": 116,
     "metadata": {},
     "output_type": "execute_result"
    }
   ],
   "source": [
    "import numpy as np\n",
    "\n",
    "wcc = list(nx.weakly_connected_components(G))\n",
    "\n",
    "df_test = pd.read_csv('data/new_test_data.csv')\n",
    "df_test['same_comp'] = df_test.apply(\n",
    "    lambda row: belongs_to_same_wcc(row['node1'], row['node2'], G, wcc), axis=1)\n",
    "\n",
    "np.bincount(df_test['same_comp'])"
   ]
  },
  {
   "cell_type": "code",
   "execution_count": 117,
   "metadata": {},
   "outputs": [],
   "source": [
    "target_csv = 'data/sample_submit.csv'\n",
    "\n",
    "# Load the CSV file into a Pandas DataFrame\n",
    "df_target = pd.read_csv(target_csv)\n",
    "\n",
    "# Replace the values in the 'ans' column with the values from the Python list\n",
    "df_target['ans'] = df_test['same_comp']\n",
    "\n",
    "# Save the updated DataFrame back to a CSV file, overwriting the original file\n",
    "df_target.to_csv(target_csv, index=False)\n"
   ]
  }
 ],
 "metadata": {
  "kernelspec": {
   "display_name": "Python 3.10.11 ('hidden_edge_prediction')",
   "language": "python",
   "name": "python3"
  },
  "language_info": {
   "codemirror_mode": {
    "name": "ipython",
    "version": 3
   },
   "file_extension": ".py",
   "mimetype": "text/x-python",
   "name": "python",
   "nbconvert_exporter": "python",
   "pygments_lexer": "ipython3",
   "version": "3.10.11"
  },
  "orig_nbformat": 4,
  "vscode": {
   "interpreter": {
    "hash": "3b38357241b84e350ee9c5bd17af16401e6dc1498cab9a8fc4c69c36784d3eb2"
   }
  }
 },
 "nbformat": 4,
 "nbformat_minor": 2
}
