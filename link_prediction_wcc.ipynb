{
 "cells": [
  {
   "cell_type": "markdown",
   "metadata": {},
   "source": [
    "# Link Prediction Using WCC"
   ]
  },
  {
   "cell_type": "markdown",
   "metadata": {},
   "source": [
    "1. Import required packages and define functions"
   ]
  },
  {
   "cell_type": "code",
   "execution_count": 14,
   "metadata": {},
   "outputs": [],
   "source": [
    "import os\n",
    "import shutil\n",
    "import numpy as np\n",
    "import pandas as pd\n",
    "import networkx as nx\n",
    "from tabulate import tabulate"
   ]
  },
  {
   "cell_type": "code",
   "execution_count": 15,
   "metadata": {},
   "outputs": [],
   "source": [
    "def show_graph_info(graph):\n",
    "    \"\"\"Display graph information\"\"\"\n",
    "    # Compute the number of nodes and edges of the graph\n",
    "    num_nodes = graph.number_of_nodes()\n",
    "    num_edges = graph.number_of_edges()\n",
    "    # Compute in-degree and out-degree of each node\n",
    "    in_degrees = dict(graph.in_degree())\n",
    "    out_degrees = dict(graph.out_degree())\n",
    "    # Compute average in-degree and out-degree\n",
    "    avg_in_degree = sum(in_degrees.values()) / len(in_degrees)\n",
    "    avg_out_degree = sum(out_degrees.values()) / len(out_degrees)\n",
    "   # Create a table with the graph information\n",
    "    table = [\n",
    "        [\"Number of nodes\", num_nodes],\n",
    "        [\"Number of edges\", num_edges],\n",
    "        [\"Average in-degree\", f\"{avg_in_degree:.2f}\"],\n",
    "        [\"Average out-degree\", f\"{avg_out_degree:.2f}\"]\n",
    "    ]\n",
    "    # Print the table\n",
    "    print(tabulate(table, headers=[\"Metrices\", \"Value\"]))"
   ]
  },
  {
   "cell_type": "code",
   "execution_count": 16,
   "metadata": {},
   "outputs": [],
   "source": [
    "def compute_shortest_path_length(a, b, graph):\n",
    "    \"\"\"Computes the shortest path length\"\"\"\n",
    "    p = -1\n",
    "    try:\n",
    "        if graph.has_edge(a, b):\n",
    "            # Temporarily remove the edge to compute the shortest path length\n",
    "            graph.remove_edge(a, b)\n",
    "            p = nx.shortest_path_length(graph, source=a, target=b)\n",
    "            graph.add_edge(a, b)\n",
    "        else:\n",
    "            p = nx.shortest_path_length(graph, source=a, target=b)\n",
    "        return p\n",
    "    except:\n",
    "        return -1"
   ]
  },
  {
   "cell_type": "code",
   "execution_count": 17,
   "metadata": {},
   "outputs": [],
   "source": [
    "def belongs_to_same_wcc(a, b, graph, wcc):\n",
    "    \"\"\"Check if two nodes belong to the same weakly connected component (WCC)\"\"\"\n",
    "    index = []\n",
    "    # If edge between a and b exists, return 1\n",
    "    if graph.has_edge(b, a):\n",
    "        return 1\n",
    "    # If edge between b and a does not exist\n",
    "    if graph.has_edge(a, b):\n",
    "        for i in wcc:\n",
    "            if a in i:\n",
    "                index = i\n",
    "                break\n",
    "        # If both nodes are in the same WCC, return 1; otherwise, return 0\n",
    "        if (b in index):\n",
    "            graph.remove_edge(a, b)\n",
    "            if compute_shortest_path_length(a, b, graph) == -1:\n",
    "                graph.add_edge(a, b)\n",
    "                return 0\n",
    "            else:\n",
    "                graph.add_edge(a, b)\n",
    "                return 1\n",
    "        else:\n",
    "            return 0\n",
    "    else:\n",
    "        for i in wcc:\n",
    "            if a in i:\n",
    "                index = i\n",
    "                break\n",
    "        # If both nodes are in the same WCC, return 1; otherwise, return 0\n",
    "        if (b in index):\n",
    "            return 1\n",
    "        else:\n",
    "            return 0"
   ]
  },
  {
   "cell_type": "markdown",
   "metadata": {},
   "source": [
    "2. Load the training data and create the graph"
   ]
  },
  {
   "cell_type": "code",
   "execution_count": 18,
   "metadata": {},
   "outputs": [
    {
     "name": "stdout",
     "output_type": "stream",
     "text": [
      "Metrices               Value\n",
      "------------------  --------\n",
      "Number of nodes     10230\n",
      "Number of edges     12000\n",
      "Average in-degree       1.17\n",
      "Average out-degree      1.17\n"
     ]
    }
   ],
   "source": [
    "# Load the csv file\n",
    "df = pd.read_csv('data/new_train_data.csv')\n",
    "# Create the graph\n",
    "G = nx.from_pandas_edgelist(df[df['label'] == 1], \"node1\", \"node2\", create_using=nx.DiGraph())\n",
    "# Printing the information of graph\n",
    "show_graph_info(G)"
   ]
  },
  {
   "cell_type": "markdown",
   "metadata": {},
   "source": [
    "3. Prepare WCC of training set, then apply to testing set"
   ]
  },
  {
   "cell_type": "code",
   "execution_count": 19,
   "metadata": {},
   "outputs": [],
   "source": [
    "wcc = list(nx.weakly_connected_components(G))\n",
    "\n",
    "df_test = pd.read_csv('data/new_test_data.csv')\n",
    "df_test['same_comp'] = df_test.apply(\n",
    "    lambda row: belongs_to_same_wcc(row['node1'], row['node2'], G, wcc), axis=1)"
   ]
  },
  {
   "cell_type": "markdown",
   "metadata": {},
   "source": [
    "4. Export the predictions to `data/sample_submit.csv`"
   ]
  },
  {
   "cell_type": "code",
   "execution_count": 20,
   "metadata": {},
   "outputs": [
    {
     "name": "stdout",
     "output_type": "stream",
     "text": [
      "Number of the prediction [0, 1]: [4077 1923]\n"
     ]
    }
   ],
   "source": [
    "print(f\"Number of the prediction [0, 1]: {np.bincount(df_test['same_comp'])}\")\n",
    "# Load the CSV file into a Pandas DataFrame\n",
    "target_csv = 'data/sample_submit.csv'\n",
    "df_target = pd.read_csv(target_csv)\n",
    "# Replace the values in the 'ans' column with the values from the Python list\n",
    "df_target['ans'] = df_test['same_comp']\n",
    "# Save the updated DataFrame back to a CSV file, overwriting the original file\n",
    "df_target.to_csv(target_csv, index=False)"
   ]
  }
 ],
 "metadata": {
  "kernelspec": {
   "display_name": "Python 3.10.11 ('link_prediction')",
   "language": "python",
   "name": "python3"
  },
  "language_info": {
   "codemirror_mode": {
    "name": "ipython",
    "version": 3
   },
   "file_extension": ".py",
   "mimetype": "text/x-python",
   "name": "python",
   "nbconvert_exporter": "python",
   "pygments_lexer": "ipython3",
   "version": "3.10.11"
  },
  "orig_nbformat": 4,
  "vscode": {
   "interpreter": {
    "hash": "fc34075cad43bf31865d0b7c8205d944888ced43096b1804b176f378a222cae2"
   }
  }
 },
 "nbformat": 4,
 "nbformat_minor": 2
}
